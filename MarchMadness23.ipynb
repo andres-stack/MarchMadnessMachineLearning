{
  "nbformat": 4,
  "nbformat_minor": 0,
  "metadata": {
    "colab": {
      "provenance": [],
      "authorship_tag": "ABX9TyOSJqY+sI+W7wbv7vOtrwOr",
      "include_colab_link": true
    },
    "kernelspec": {
      "name": "python3",
      "display_name": "Python 3"
    },
    "language_info": {
      "name": "python"
    }
  },
  "cells": [
    {
      "cell_type": "markdown",
      "metadata": {
        "id": "view-in-github",
        "colab_type": "text"
      },
      "source": [
        "<a href=\"https://colab.research.google.com/github/andres-stack/MarchMadnessMachineLearning/blob/main/MarchMadness23.ipynb\" target=\"_parent\"><img src=\"https://colab.research.google.com/assets/colab-badge.svg\" alt=\"Open In Colab\"/></a>"
      ]
    },
    {
      "cell_type": "code",
      "source": [
        "from google.colab import drive\n",
        "drive.mount('/content/drive')"
      ],
      "metadata": {
        "id": "LUnKjqNa7GS3"
      },
      "execution_count": null,
      "outputs": []
    },
    {
      "cell_type": "code",
      "execution_count": 518,
      "metadata": {
        "id": "eWo9zjrr51-_"
      },
      "outputs": [],
      "source": [
        "import pandas as pd\n",
        "import numpy as np\n",
        "import matplotlib.pyplot as plt\n",
        "from sklearn.linear_model import LogisticRegression\n",
        "from sklearn.preprocessing import PolynomialFeatures\n",
        "from sklearn.model_selection import train_test_split\n",
        "from sklearn.svm import SVC\n",
        "from sklearn import preprocessing\n",
        "import numpy as np\n",
        "from sklearn import metrics"
      ]
    },
    {
      "cell_type": "code",
      "source": [
        "location = \"/content/drive/MyDrive/MarchMadnessData/march-machine-learning-mania-2023/\"\n",
        "data = pd.read_csv(location + \"MRegularSeasonDetailedResults.csv\")\n",
        "data.columns.values"
      ],
      "metadata": {
        "id": "6pgteoj36k1I"
      },
      "execution_count": null,
      "outputs": []
    },
    {
      "cell_type": "code",
      "source": [
        "winners = pd.DataFrame()\n",
        "losers = pd.DataFrame()\n",
        "c = ['Season', 'TeamID', 'totalPoints', 'OpposingPoints'\n",
        "      , 'NumOT', 'FGM', 'FGA', 'FGM3', 'FGA3', 'FTM', 'FTA',\n",
        "       'OR', 'DR', 'Ast', 'TO', 'Stl', 'Blk', 'PF', 'OpposingFGM', 'OpposingFGA',\n",
        "       'OpposingFGM3', 'OpposingFGA3', 'OpposingFTM', 'OpposingFTA', 'OpposingOR', 'OpposingDR', 'OpposingAst', 'OpposingTO',\n",
        "       'OpposingStl', 'OpposingBlk', 'OpposingPF']\n",
        "\n",
        "winners[c] = data[['Season', 'WTeamID', 'WScore', 'LScore',\n",
        "       'NumOT', 'WFGM', 'WFGA', 'WFGM3', 'WFGA3', 'WFTM', 'WFTA',\n",
        "       'WOR', 'WDR', 'WAst', 'WTO', 'WStl', 'WBlk', 'WPF', 'LFGM', 'LFGA',\n",
        "       'LFGM3', 'LFGA3', 'LFTM', 'LFTA', 'LOR', 'LDR', 'LAst', 'LTO',\n",
        "       'LStl', 'LBlk', 'LPF']]\n",
        "winners['wins'] = 1\n",
        "winners['losses'] = 0\n",
        "\n",
        "losers[c] = data[['Season', 'LTeamID', 'LScore', 'WScore',\n",
        "       'NumOT', 'LFGM', 'LFGA', 'LFGM3', 'LFGA3', 'LFTM', 'LFTA',\n",
        "       'LOR', 'LDR', 'LAst', 'LTO', 'LStl', 'LBlk', 'LPF', 'WFGM', 'WFGA',\n",
        "       'WFGM3', 'WFGA3', 'WFTM', 'WFTA', 'WOR', 'WDR', 'WAst', 'WTO',\n",
        "       'WStl', 'WBlk', 'WPF']]\n",
        "\n",
        "\n",
        "losers['wins'] = 0\n",
        "losers['losses'] = 1\n",
        "\n",
        "allTeams = pd.concat([winners, losers])\n",
        "display(allTeams)"
      ],
      "metadata": {
        "id": "ms7lQsg0Lr3a"
      },
      "execution_count": null,
      "outputs": []
    },
    {
      "cell_type": "code",
      "source": [
        "singleTeamSeasons = allTeams.groupby(['Season', 'TeamID']).sum()\n",
        "singleTeamSeasons[\"totalGamesPlayed\"] = singleTeamSeasons['wins'] + singleTeamSeasons[\"losses\"]\n",
        "singleTeamSeasons.columns.values"
      ],
      "metadata": {
        "id": "GTAuw8rXbJxb"
      },
      "execution_count": null,
      "outputs": []
    },
    {
      "cell_type": "code",
      "source": [
        "#calculating useful season stats for each team\n",
        "regSeasonStats = pd.DataFrame()\n",
        "regSeasonStats[\"blksPerGame\"] = singleTeamSeasons[\"Blk\"]/singleTeamSeasons[\"totalGamesPlayed\"]\n",
        "regSeasonStats[\"StlsPerGame\"] = singleTeamSeasons[\"Stl\"]/singleTeamSeasons[\"totalGamesPlayed\"]\n",
        "regSeasonStats[\"PFPerGame\"] = singleTeamSeasons[\"PF\"]/singleTeamSeasons[\"totalGamesPlayed\"]\n",
        "regSeasonStats[\"TurnOversPerGames\"] = singleTeamSeasons[\"TO\"]/singleTeamSeasons[\"totalGamesPlayed\"]\n",
        "regSeasonStats[\"AstPerGame\"] = singleTeamSeasons[\"Ast\"]/singleTeamSeasons[\"totalGamesPlayed\"]\n",
        "regSeasonStats[\"DefensiveReboundsPerGame\"] = singleTeamSeasons[\"DR\"]/singleTeamSeasons[\"totalGamesPlayed\"]\n",
        "regSeasonStats[\"OffensiveReboundsPerGame\"] = singleTeamSeasons[\"OR\"]/singleTeamSeasons[\"totalGamesPlayed\"]\n",
        "regSeasonStats[\"PointsPerGame\"] = singleTeamSeasons[\"totalPoints\"]/singleTeamSeasons[\"totalGamesPlayed\"]\n",
        "regSeasonStats[\"WinRatio\"] = singleTeamSeasons[\"wins\"]/singleTeamSeasons[\"totalGamesPlayed\"]\n",
        "regSeasonStats[\"PointRation\"] = singleTeamSeasons[\"totalPoints\"]/singleTeamSeasons[\"OpposingPoints\"]\n",
        "regSeasonStats[\"OTPerGame\"] = singleTeamSeasons[\"NumOT\"]/singleTeamSeasons[\"totalGamesPlayed\"]\n",
        "regSeasonStats[\"FG%\"] = singleTeamSeasons[\"FGM\"]/singleTeamSeasons[\"FGA\"]\n",
        "regSeasonStats[\"FGPerGame\"] = singleTeamSeasons[\"FGM\"]/singleTeamSeasons[\"totalGamesPlayed\"]\n",
        "regSeasonStats[\"3FG%\"] = singleTeamSeasons[\"FGM3\"]/singleTeamSeasons[\"FGA3\"]\n",
        "regSeasonStats[\"FG3PerGame\"] = singleTeamSeasons[\"FGM3\"]/singleTeamSeasons[\"totalGamesPlayed\"]\n",
        "regSeasonStats[\"FreeThrowsMadePerGame\"] = singleTeamSeasons[\"OpposingFTM\"]/singleTeamSeasons[\"totalGamesPlayed\"]\n",
        "regSeasonStats[\"FreeThrow%\"] = singleTeamSeasons[\"FTA\"]/singleTeamSeasons[\"FTM\"]\n",
        "regSeasonStats[\"FreeThrowAllowed\"] = singleTeamSeasons[\"OpposingFTM\"]/singleTeamSeasons[\"totalGamesPlayed\"]\n",
        "regSeasonStats[\"eFG%\"] = (singleTeamSeasons[\"FGA\"] + (.5*(singleTeamSeasons[\"FGM3\"]))/singleTeamSeasons[\"FGA\"])\n",
        "regSeasonStats[\"FreeThrowRatio\"] = singleTeamSeasons[\"FTA\"]/singleTeamSeasons[\"FGA\"]\n",
        "regSeasonStats['TOV%'] = singleTeamSeasons[\"TO\"]/(regSeasonStats[\"FG%\"])+((.44 + regSeasonStats[\"FreeThrow%\"])+singleTeamSeasons[\"TO\"])\n",
        "regSeasonStats['OR%'] = singleTeamSeasons[\"OR\"]/singleTeamSeasons[\"OR\"] +singleTeamSeasons[\"DR\"]\n",
        "#Sully’s Team Four Factor Rating = ((0.50*eFG%)-(0.30*TOV)+(0.15*OREB)+(0.05*FTR))\n",
        "regSeasonStats[\"4FactorRating\"] = (((.5)*(regSeasonStats[\"eFG%\"])) - (.3*(regSeasonStats['TOV%']))+(.15*regSeasonStats['OR%'])+ (.05*(regSeasonStats[\"FreeThrowRatio\"])))\n",
        "\n",
        "#defense wins games\n",
        "regSeasonStats[\"FG%Allowed\"] = singleTeamSeasons[\"OpposingFGM\"]/singleTeamSeasons[\"OpposingFGA\"]\n",
        "regSeasonStats[\"FGAllowedPerGame\"] = singleTeamSeasons[\"OpposingFGM\"]/singleTeamSeasons[\"totalGamesPlayed\"]\n",
        "regSeasonStats[\"3FG%Allowed\"] = singleTeamSeasons[\"OpposingFGM3\"]/singleTeamSeasons[\"OpposingFGA3\"]\n",
        "regSeasonStats[\"3FGAllowedPerGame\"] = singleTeamSeasons[\"OpposingFGM3\"]/singleTeamSeasons[\"totalGamesPlayed\"]\n",
        "regSeasonStats[\"TurnOverCausedPerGame\"] = singleTeamSeasons[\"OpposingTO\"]/singleTeamSeasons[\"totalGamesPlayed\"]\n",
        "regSeasonStats[\"TOAssistDifferential\"] = regSeasonStats[\"AstPerGame\"]/regSeasonStats[\"TurnOverCausedPerGame\"]\n",
        "regSeasonStats[\"DRRatio\"] = singleTeamSeasons[\"DR\"]/singleTeamSeasons[\"OR\"] +singleTeamSeasons[\"DR\"]\n"
      ],
      "metadata": {
        "id": "2ehENvGLUhyk"
      },
      "execution_count": 522,
      "outputs": []
    },
    {
      "cell_type": "code",
      "source": [
        "#combining the tournament historical data into one DF\n",
        "compactData = pd.read_csv(location + \"MNCAATourneyCompactResults.csv\")\n",
        "MMWinners = pd.DataFrame()\n",
        "MMLosers = pd.DataFrame()\n",
        "\n",
        "MMWinners[[\"Season\", \"Team1\", \"Team2\"]] = compactData[[\"Season\", \"WTeamID\", \"LTeamID\"]]\n",
        "MMLosers[[\"Season\", \"Team1\", \"Team2\"]] = compactData[[\"Season\", \"LTeamID\", \"WTeamID\"]]\n",
        "MMWinners[\"outcome\"] = 1\n",
        "MMLosers[\"outcome\"] = 0\n",
        "\n",
        "WinnersLosers = pd.concat([MMWinners,MMLosers])\n",
        "WinnersLosers = WinnersLosers[WinnersLosers[\"Season\"] >= 2003].reset_index(drop = True)\n",
        "\n",
        "display(WinnersLosers)"
      ],
      "metadata": {
        "id": "6OFScm9mjvAM"
      },
      "execution_count": null,
      "outputs": []
    },
    {
      "cell_type": "code",
      "source": [
        "#adding seed to WinnersLosers DataFrame\n",
        "seeding = pd.read_csv(location + \"MNCAATourneySeeds.csv\")\n",
        "ConsisceSeeding = seeding.set_index(['Season', 'TeamID'])\n",
        "ConsisceSeeding.head(10)\n",
        "\n",
        "Team1Seeds = []\n",
        "Team2Seeds = []\n",
        "\n",
        "#adding all seeds in DF to 2 lists\n",
        "for x in range(len(WinnersLosers)):\n",
        "  Team1Seeds.append(ConsisceSeeding.loc[(WinnersLosers[\"Season\"][x], WinnersLosers[\"Team1\"][x])].values[0])\n",
        "for x in range(len(WinnersLosers)):\n",
        "  Team2Seeds.append(ConsisceSeeding.loc[(WinnersLosers[\"Season\"][x], WinnersLosers[\"Team2\"][x])].values[0])\n",
        "\n",
        "#removing letters\n",
        "for x in range(len(Team1Seeds)):\n",
        "  if len(Team1Seeds[x]) == 4:\n",
        "    Team1Seeds[x] = int(Team1Seeds[x][1:-1])\n",
        "  else:\n",
        "    Team1Seeds[x] = int(Team1Seeds[x][1:])\n",
        "for x in range(len(Team2Seeds)):\n",
        "  if len(Team2Seeds[x]) == 4:\n",
        "    Team2Seeds[x] = int(Team2Seeds[x][1:-1])\n",
        "  else:\n",
        "    Team2Seeds[x] = int(Team2Seeds[x][1:])\n",
        "\n",
        "print(Team1Seeds, Team2Seeds)\n",
        "\n",
        "#add seeds to DF\n",
        "WinnersLosers[\"Team1Seed\"] = Team1Seeds\n",
        "WinnersLosers[\"Team2Seed\"] = Team2Seeds\n",
        "\n",
        "display(WinnersLosers)"
      ],
      "metadata": {
        "id": "XBdby5ybp83r"
      },
      "execution_count": null,
      "outputs": []
    },
    {
      "cell_type": "code",
      "source": [
        "final = []\n",
        "\n",
        "for i in range(len(WinnersLosers)):\n",
        "  index = (WinnersLosers['Season'][i], WinnersLosers['Team1'][i])\n",
        "  team1Final = regSeasonStats.loc[index]\n",
        "  team1Final['Seed'] = WinnersLosers['Team1Seed'][i]\n",
        "\n",
        "  index = (WinnersLosers['Season'][i], WinnersLosers['Team2'][i])\n",
        "  team2Final = regSeasonStats.loc[index]\n",
        "  team2Final['Seed'] = WinnersLosers['Team2Seed'][i]\n",
        "\n",
        "  f = team1Final - team2Final\n",
        "  f['outcome'] = WinnersLosers['outcome'][i]\n",
        "  final.append(f)\n",
        "final = pd.DataFrame(final)\n",
        "\n",
        "display(final)"
      ],
      "metadata": {
        "id": "2vNgRKVsyRn7"
      },
      "execution_count": null,
      "outputs": []
    },
    {
      "cell_type": "code",
      "source": [
        "corrs = round(final.corr(),2)\n",
        "display(np.abs(corrs['outcome']))"
      ],
      "metadata": {
        "id": "Lp0QFotx0yWC"
      },
      "execution_count": null,
      "outputs": []
    },
    {
      "cell_type": "code",
      "source": [
        "x = final[final.columns[:-1]].values\n",
        "y = final['outcome'].values\n",
        "\n",
        "np.random.seed(1)\n",
        "idx = np.random.permutation(len(x))\n",
        "train_idx = idx[:int(-.2*len(x))]\n",
        "test_idx = idx[int(-.2*len(x)):]\n",
        "\n",
        "X_train = x[train_idx]\n",
        "X_test = x[test_idx]\n",
        "Y_train = y[train_idx]\n",
        "Y_test = y[test_idx]\n",
        "\n",
        "min = X_train.min(axis=0)\n",
        "max = X_train.max(axis=0)\n",
        "\n",
        "X_train = (X_train - min)/(max - min)\n",
        "X_test = (X_test - min)/(max - min)\n",
        "\n",
        "poly = PolynomialFeatures(degree = 4, interaction_only=False, include_bias=False)\n",
        "X_poly = poly.fit_transform(X_train)\n",
        "#training utilizing logistic regression model\n",
        "logreg = LogisticRegression(random_state=16)\n",
        "logreg.fit(X_poly, Y_train)\n",
        "logreg.score(poly.transform(X_test), Y_test)"
      ],
      "metadata": {
        "id": "uuTQ-_Cq49Cx"
      },
      "execution_count": null,
      "outputs": []
    },
    {
      "cell_type": "code",
      "source": [
        "X_train, X_test, y_train, y_test = train_test_split(x, y, test_size = 0.20)\n",
        "scaler = preprocessing.StandardScaler().fit(X_train)\n",
        "scaler = preprocessing.StandardScaler().fit(X_test)\n",
        "X_testScaled = scaler.transform(X_test)\n",
        "X_scaled = scaler.transform(X_train)\n",
        "svclassifier = SVC(kernel='rbf')\n",
        "svclassifier.fit(X_scaled, y_train)\n",
        "y_pred = svclassifier.predict(X_testScaled)\n",
        "print(\"Gaussian Kernel Accuracy:\",metrics.accuracy_score(y_test, y_pred))\n"
      ],
      "metadata": {
        "id": "RmNHCZp39iTC"
      },
      "execution_count": null,
      "outputs": []
    },
    {
      "cell_type": "code",
      "source": [
        "#Support Vector Machine with polynomial kernal \n",
        "polyclassifier = SVC(kernel = 'poly', degree = 5, probability=True)\n",
        "polyclassifier.fit(X_scaled, y_train)\n",
        "prediction = polyclassifier.predict(X_testScaled)\n",
        "print('polynomial degree 5'':',metrics.accuracy_score(y_test, prediction))"
      ],
      "metadata": {
        "id": "AqoxQbAS97jL"
      },
      "execution_count": null,
      "outputs": []
    },
    {
      "cell_type": "code",
      "source": [
        "print(type(X_testScaled))"
      ],
      "metadata": {
        "id": "g9PdRxXjqOur"
      },
      "execution_count": null,
      "outputs": []
    },
    {
      "cell_type": "code",
      "source": [
        "data = pd.read_csv(location + \"newMRegularSeasonDetailedResults (1).csv\")\n",
        "matchups = pd.read_csv(location + \"newMNCAATourneySeeds.csv\")\n",
        "teams = pd.read_csv(location + \"MTeams.csv\")\n",
        "data = data[data[\"Season\"] >= 2023].reset_index(drop = True)\n",
        "\n",
        "winners = pd.DataFrame()\n",
        "losers = pd.DataFrame()\n",
        "c = ['Season', 'TeamID', 'totalPoints', 'OpposingPoints'\n",
        "      , 'NumOT', 'FGM', 'FGA', 'FGM3', 'FGA3', 'FTM', 'FTA',\n",
        "       'OR', 'DR', 'Ast', 'TO', 'Stl', 'Blk', 'PF', 'OpposingFGM', 'OpposingFGA',\n",
        "       'OpposingFGM3', 'OpposingFGA3', 'OpposingFTM', 'OpposingFTA', 'OpposingOR', 'OpposingDR', 'OpposingAst', 'OpposingTO',\n",
        "       'OpposingStl', 'OpposingBlk', 'OpposingPF']\n",
        "\n",
        "winners[c] = data[['Season', 'WTeamID', 'WScore', 'LScore',\n",
        "       'NumOT', 'WFGM', 'WFGA', 'WFGM3', 'WFGA3', 'WFTM', 'WFTA',\n",
        "       'WOR', 'WDR', 'WAst', 'WTO', 'WStl', 'WBlk', 'WPF', 'LFGM', 'LFGA',\n",
        "       'LFGM3', 'LFGA3', 'LFTM', 'LFTA', 'LOR', 'LDR', 'LAst', 'LTO',\n",
        "       'LStl', 'LBlk', 'LPF']]\n",
        "winners['wins'] = 1\n",
        "winners['losses'] = 0\n",
        "\n",
        "losers[c] = data[['Season', 'LTeamID', 'LScore', 'WScore',\n",
        "       'NumOT', 'LFGM', 'LFGA', 'LFGM3', 'LFGA3', 'LFTM', 'LFTA',\n",
        "       'LOR', 'LDR', 'LAst', 'LTO', 'LStl', 'LBlk', 'LPF', 'WFGM', 'WFGA',\n",
        "       'WFGM3', 'WFGA3', 'WFTM', 'WFTA', 'WOR', 'WDR', 'WAst', 'WTO',\n",
        "       'WStl', 'WBlk', 'WPF']]\n",
        "\n",
        "\n",
        "losers['wins'] = 0\n",
        "losers['losses'] = 1\n",
        "\n",
        "allTeams = pd.concat([winners, losers])\n",
        "display(allTeams)"
      ],
      "metadata": {
        "id": "kRP_yIetA5V4"
      },
      "execution_count": null,
      "outputs": []
    },
    {
      "cell_type": "code",
      "source": [
        "singleTeamSeasons = allTeams.groupby(['TeamID']).sum()\n",
        "singleTeamSeasons[\"totalGamesPlayed\"] = singleTeamSeasons['wins'] + singleTeamSeasons[\"losses\"]\n",
        "singleTeamSeasons.reset_index(inplace=True)\n",
        "singleTeamSeasons.columns.values"
      ],
      "metadata": {
        "id": "7f_ws32SStNn"
      },
      "execution_count": null,
      "outputs": []
    },
    {
      "cell_type": "code",
      "source": [
        "#calculating useful season stats for each team\n",
        "regSeasonStats = pd.DataFrame()\n",
        "regSeasonStats['TeamID'] = singleTeamSeasons[\"TeamID\"]\n",
        "regSeasonStats[\"blksPerGame\"] = singleTeamSeasons[\"Blk\"]/singleTeamSeasons[\"totalGamesPlayed\"]\n",
        "regSeasonStats[\"StlsPerGame\"] = singleTeamSeasons[\"Stl\"]/singleTeamSeasons[\"totalGamesPlayed\"]\n",
        "regSeasonStats[\"PFPerGame\"] = singleTeamSeasons[\"PF\"]/singleTeamSeasons[\"totalGamesPlayed\"]\n",
        "regSeasonStats[\"TurnOversPerGames\"] = singleTeamSeasons[\"TO\"]/singleTeamSeasons[\"totalGamesPlayed\"]\n",
        "regSeasonStats[\"AstPerGame\"] = singleTeamSeasons[\"Ast\"]/singleTeamSeasons[\"totalGamesPlayed\"]\n",
        "regSeasonStats[\"DefensiveReboundsPerGame\"] = singleTeamSeasons[\"DR\"]/singleTeamSeasons[\"totalGamesPlayed\"]\n",
        "regSeasonStats[\"OffensiveReboundsPerGame\"] = singleTeamSeasons[\"OR\"]/singleTeamSeasons[\"totalGamesPlayed\"]\n",
        "regSeasonStats[\"PointsPerGame\"] = singleTeamSeasons[\"totalPoints\"]/singleTeamSeasons[\"totalGamesPlayed\"]\n",
        "regSeasonStats[\"WinRatio\"] = singleTeamSeasons[\"wins\"]/singleTeamSeasons[\"totalGamesPlayed\"]\n",
        "regSeasonStats[\"PointRation\"] = singleTeamSeasons[\"totalPoints\"]/singleTeamSeasons[\"OpposingPoints\"]\n",
        "regSeasonStats[\"OTPerGame\"] = singleTeamSeasons[\"NumOT\"]/singleTeamSeasons[\"totalGamesPlayed\"]\n",
        "regSeasonStats[\"FG%\"] = singleTeamSeasons[\"FGM\"]/singleTeamSeasons[\"FGA\"]\n",
        "regSeasonStats[\"FGPerGame\"] = singleTeamSeasons[\"FGM\"]/singleTeamSeasons[\"totalGamesPlayed\"]\n",
        "regSeasonStats[\"3FG%\"] = singleTeamSeasons[\"FGM3\"]/singleTeamSeasons[\"FGA3\"]\n",
        "regSeasonStats[\"FG3PerGame\"] = singleTeamSeasons[\"FGM3\"]/singleTeamSeasons[\"totalGamesPlayed\"]\n",
        "regSeasonStats[\"FreeThrowsMadePerGame\"] = singleTeamSeasons[\"OpposingFTM\"]/singleTeamSeasons[\"totalGamesPlayed\"]\n",
        "regSeasonStats[\"FreeThrow%\"] = singleTeamSeasons[\"FTA\"]/singleTeamSeasons[\"FTM\"]\n",
        "regSeasonStats[\"FreeThrowAllowed\"] = singleTeamSeasons[\"OpposingFTM\"]/singleTeamSeasons[\"totalGamesPlayed\"]\n",
        "regSeasonStats[\"eFG%\"] = (singleTeamSeasons[\"FGA\"] + (.5*(singleTeamSeasons[\"FGM3\"]))/singleTeamSeasons[\"FGA\"])\n",
        "regSeasonStats[\"FreeThrowRatio\"] = singleTeamSeasons[\"FTA\"]/singleTeamSeasons[\"FGA\"]\n",
        "regSeasonStats['TOV%'] = singleTeamSeasons[\"TO\"]/(regSeasonStats[\"FG%\"])+((.44 + regSeasonStats[\"FreeThrow%\"])+singleTeamSeasons[\"TO\"])\n",
        "regSeasonStats['OR%'] = singleTeamSeasons[\"OR\"]/singleTeamSeasons[\"OR\"] +singleTeamSeasons[\"DR\"]\n",
        "#Sully’s Team Four Factor Rating = ((0.50*eFG%)-(0.30*TOV)+(0.15*OREB)+(0.05*FTR))\n",
        "regSeasonStats[\"4FactorRating\"] = (((.5)*(regSeasonStats[\"eFG%\"])) - (.3*(regSeasonStats['TOV%']))+(.15*regSeasonStats['OR%'])+ (.05*(regSeasonStats[\"FreeThrowRatio\"])))\n",
        "\n",
        "#defense wins games\n",
        "regSeasonStats[\"FG%Allowed\"] = singleTeamSeasons[\"OpposingFGM\"]/singleTeamSeasons[\"OpposingFGA\"]\n",
        "regSeasonStats[\"FGAllowedPerGame\"] = singleTeamSeasons[\"OpposingFGM\"]/singleTeamSeasons[\"totalGamesPlayed\"]\n",
        "regSeasonStats[\"3FG%Allowed\"] = singleTeamSeasons[\"OpposingFGM3\"]/singleTeamSeasons[\"OpposingFGA3\"]\n",
        "regSeasonStats[\"3FGAllowedPerGame\"] = singleTeamSeasons[\"OpposingFGM3\"]/singleTeamSeasons[\"totalGamesPlayed\"]\n",
        "regSeasonStats[\"TurnOverCausedPerGame\"] = singleTeamSeasons[\"OpposingTO\"]/singleTeamSeasons[\"totalGamesPlayed\"]\n",
        "regSeasonStats[\"TOAssistDifferential\"] = regSeasonStats[\"AstPerGame\"]/regSeasonStats[\"TurnOverCausedPerGame\"]\n",
        "regSeasonStats[\"DRRatio\"] = singleTeamSeasons[\"DR\"]/singleTeamSeasons[\"OR\"] +singleTeamSeasons[\"DR\"]\n",
        "\n",
        "display(regSeasonStats)"
      ],
      "metadata": {
        "id": "oFjyZv0qS2e5"
      },
      "execution_count": null,
      "outputs": []
    },
    {
      "cell_type": "code",
      "source": [
        "#adding seed to regSeasonStats DataFrame\n",
        "seeding = pd.read_csv(location + \"MNCAATourneySeeds.csv\")\n",
        "ConsisceSeeding = seeding.set_index(['TeamID'])\n",
        "ConsisceSeeding = ConsisceSeeding[ConsisceSeeding[\"Season\"] >= 2023].reset_index()\n",
        "ConsisceSeeding = ConsisceSeeding.drop(\"Season\",axis=1)\n",
        "ConsisceSeeding = ConsisceSeeding.set_index(\"TeamID\")\n",
        "\n",
        "#add seed\n",
        "TeamSeeds = []\n",
        "for x in range(len(regSeasonStats)):\n",
        "  try:\n",
        "    TeamSeeds.append(ConsisceSeeding.loc[regSeasonStats[\"TeamID\"][x]][\"Seed\"])\n",
        "  except:\n",
        "    TeamSeeds.append('w01')\n",
        "  \n",
        "for x in range(len(TeamSeeds)):\n",
        "  if len(TeamSeeds[x]) == 4:\n",
        "    TeamSeeds[x] = int(TeamSeeds[x][1:-1])\n",
        "  else:\n",
        "    TeamSeeds[x] = int(TeamSeeds[x][1:])\n",
        "\n",
        "#add seeds to DF\n",
        "regSeasonStats[\"Seed\"] = TeamSeeds\n",
        "\n",
        "#remove index and TeamID\n",
        "#convert row into dataframe and subtract them\n",
        "regSeasonStats.loc[:,\"TeamID\"]\n",
        "df_new = regSeasonStats[regSeasonStats['TeamID'] == 1222] #ver\n",
        "df_new2 = regSeasonStats[regSeasonStats['TeamID'] == 1345] #nk\n",
        "df_new.reset_index(inplace=True)\n",
        "df_new2.reset_index(inplace=True)\n",
        "df_newerererer = (df_new2-df_new)\n",
        "df_newerererer = df_newerererer.drop(\"index\", axis = 1)\n",
        "df_newerererer = df_newerererer.drop(\"TeamID\", axis = 1)\n",
        "df_newerererer = scaler.transform(df_newerererer)\n",
        "svclassifier.predict(df_newerererer)\n",
        "\n",
        "# 1 means team 2 wins"
      ],
      "metadata": {
        "id": "bF7rxbVPUam1"
      },
      "execution_count": null,
      "outputs": []
    }
  ]
}